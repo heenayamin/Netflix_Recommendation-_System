{
 "cells": [
  {
   "cell_type": "markdown",
   "id": "5670bd4a",
   "metadata": {},
   "source": [
    "#Netflix Recommendation System Works\n",
    "\n",
    "Netflix is a subscription service model that offers personalized recommendations, to help us find shows and movies of interest to you. To do this they have created a proprietary, complex recommendations system. \n",
    "Whenever we access the Netflix service, the recommendations system  of netflix strives to help user find a show or movie to enjoy with minimal effort. they  estimate the likelihood that the user  will watch a particular title in their catalog based on a number of factors including:\n",
    "\n",
    "Their interactions with their services (such as our viewing history and how you rated other titles),\n",
    "\n",
    "other members with similar tastes and preferences on  their service, and\n",
    "\n",
    "information about the titles, such as their genre, categories, actors, release year, etc.\n",
    "\n",
    "When the user create their Netflix account, or add a new profile in the  account, they ask you to choose a few titles that you like. The Recommendation System use these titles to “jump start” your recommendations. Choosing a few titles the user  like is optional. If the user choose to forego this step then we will start the user off with a diverse and popular set of titles to get user going.\n",
    "\n",
    "Once the user start watching titles on the service, this will “supercede” any initial preferences you provided us, and as the user continue to watch over time, the titles you watched more recently will outweight titles you watched in the past in terms of driving the recommendations system."
   ]
  },
  {
   "cell_type": "code",
   "execution_count": 1,
   "id": "d219938f",
   "metadata": {},
   "outputs": [],
   "source": [
    "#importing the required libraries:\n",
    "import pandas as pd\n",
    "import numpy as np\n",
    "from sklearn.feature_extraction import text\n",
    "from sklearn.metrics.pairwise import cosine_similarity\n",
    "import matplotlib.pyplot as plt\n",
    "%matplotlib inline"
   ]
  },
  {
   "cell_type": "code",
   "execution_count": 2,
   "id": "fd713882",
   "metadata": {},
   "outputs": [],
   "source": [
    "data=pd.read_csv(\"C:/Users/LENOVO/OneDrive/Desktop/DATA SCIENTIST/machine learning/Datasets/netflixData.csv\")"
   ]
  },
  {
   "cell_type": "code",
   "execution_count": 3,
   "id": "9d54f234",
   "metadata": {},
   "outputs": [
    {
     "name": "stdout",
     "output_type": "stream",
     "text": [
      "                                Show Id                          Title  \\\n",
      "0  cc1b6ed9-cf9e-4057-8303-34577fb54477                       (Un)Well   \n",
      "1  e2ef4e91-fb25-42ab-b485-be8e3b23dedb                         #Alive   \n",
      "2  b01b73b7-81f6-47a7-86d8-acb63080d525  #AnneFrank - Parallel Stories   \n",
      "3  b6611af0-f53c-4a08-9ffa-9716dc57eb9c                       #blackAF   \n",
      "4  7f2d4170-bab8-4d75-adc2-197f7124c070               #cats_the_mewvie   \n",
      "\n",
      "                                         Description  \\\n",
      "0  This docuseries takes a deep dive into the luc...   \n",
      "1  As a grisly virus rampages a city, a lone man ...   \n",
      "2  Through her diary, Anne Frank's story is retol...   \n",
      "3  Kenya Barris and his family navigate relations...   \n",
      "4  This pawesome documentary explores how our fel...   \n",
      "\n",
      "                      Director  \\\n",
      "0                          NaN   \n",
      "1                       Cho Il   \n",
      "2  Sabina Fedeli, Anna Migotto   \n",
      "3                          NaN   \n",
      "4             Michael Margolis   \n",
      "\n",
      "                                           Genres  \\\n",
      "0                                      Reality TV   \n",
      "1  Horror Movies, International Movies, Thrillers   \n",
      "2             Documentaries, International Movies   \n",
      "3                                     TV Comedies   \n",
      "4             Documentaries, International Movies   \n",
      "\n",
      "                                                Cast Production Country  \\\n",
      "0                                                NaN      United States   \n",
      "1                           Yoo Ah-in, Park Shin-hye        South Korea   \n",
      "2                        Helen Mirren, Gengher Gatti              Italy   \n",
      "3  Kenya Barris, Rashida Jones, Iman Benson, Genn...      United States   \n",
      "4                                                NaN             Canada   \n",
      "\n",
      "   Release Date Rating  Duration Imdb Score Content Type         Date Added  \n",
      "0        2020.0  TV-MA  1 Season     6.6/10      TV Show                NaN  \n",
      "1        2020.0  TV-MA    99 min     6.2/10        Movie  September 8, 2020  \n",
      "2        2019.0  TV-14    95 min     6.4/10        Movie       July 1, 2020  \n",
      "3        2020.0  TV-MA  1 Season     6.6/10      TV Show                NaN  \n",
      "4        2020.0  TV-14    90 min     5.1/10        Movie   February 5, 2020  \n"
     ]
    }
   ],
   "source": [
    "print(data.head(5))"
   ]
  },
  {
   "cell_type": "code",
   "execution_count": 4,
   "id": "18b3f65c",
   "metadata": {},
   "outputs": [
    {
     "data": {
      "text/plain": [
       "(5967, 13)"
      ]
     },
     "execution_count": 4,
     "metadata": {},
     "output_type": "execute_result"
    }
   ],
   "source": [
    "data.shape"
   ]
  },
  {
   "cell_type": "code",
   "execution_count": 5,
   "id": "60f3a522",
   "metadata": {},
   "outputs": [
    {
     "data": {
      "text/plain": [
       "Show Id                  0\n",
       "Title                    0\n",
       "Description              0\n",
       "Director              2064\n",
       "Genres                   0\n",
       "Cast                   530\n",
       "Production Country     559\n",
       "Release Date             3\n",
       "Rating                   4\n",
       "Duration                 3\n",
       "Imdb Score             608\n",
       "Content Type             0\n",
       "Date Added            1335\n",
       "dtype: int64"
      ]
     },
     "execution_count": 5,
     "metadata": {},
     "output_type": "execute_result"
    }
   ],
   "source": [
    "#lets check the missing value in the datatset\n",
    "data.isnull().sum()"
   ]
  },
  {
   "cell_type": "markdown",
   "id": "cfe2dd0b",
   "metadata": {},
   "source": [
    "so the columns Director,Cast,Production Country,Imdb Score ,Date Added ,have null values.Instead of cleaning the whole dataset we will focus on those column which we need to build the Netflix recommendation system.let’s select the columns that we can use to build a Netflix recommendation system:"
   ]
  },
  {
   "cell_type": "code",
   "execution_count": 6,
   "id": "38d87e0c",
   "metadata": {},
   "outputs": [
    {
     "data": {
      "text/html": [
       "<div>\n",
       "<style scoped>\n",
       "    .dataframe tbody tr th:only-of-type {\n",
       "        vertical-align: middle;\n",
       "    }\n",
       "\n",
       "    .dataframe tbody tr th {\n",
       "        vertical-align: top;\n",
       "    }\n",
       "\n",
       "    .dataframe thead th {\n",
       "        text-align: right;\n",
       "    }\n",
       "</style>\n",
       "<table border=\"1\" class=\"dataframe\">\n",
       "  <thead>\n",
       "    <tr style=\"text-align: right;\">\n",
       "      <th></th>\n",
       "      <th>Title</th>\n",
       "      <th>Description</th>\n",
       "      <th>Content Type</th>\n",
       "      <th>Genres</th>\n",
       "    </tr>\n",
       "  </thead>\n",
       "  <tbody>\n",
       "    <tr>\n",
       "      <th>0</th>\n",
       "      <td>(Un)Well</td>\n",
       "      <td>This docuseries takes a deep dive into the luc...</td>\n",
       "      <td>TV Show</td>\n",
       "      <td>Reality TV</td>\n",
       "    </tr>\n",
       "    <tr>\n",
       "      <th>1</th>\n",
       "      <td>#Alive</td>\n",
       "      <td>As a grisly virus rampages a city, a lone man ...</td>\n",
       "      <td>Movie</td>\n",
       "      <td>Horror Movies, International Movies, Thrillers</td>\n",
       "    </tr>\n",
       "    <tr>\n",
       "      <th>2</th>\n",
       "      <td>#AnneFrank - Parallel Stories</td>\n",
       "      <td>Through her diary, Anne Frank's story is retol...</td>\n",
       "      <td>Movie</td>\n",
       "      <td>Documentaries, International Movies</td>\n",
       "    </tr>\n",
       "    <tr>\n",
       "      <th>3</th>\n",
       "      <td>#blackAF</td>\n",
       "      <td>Kenya Barris and his family navigate relations...</td>\n",
       "      <td>TV Show</td>\n",
       "      <td>TV Comedies</td>\n",
       "    </tr>\n",
       "    <tr>\n",
       "      <th>4</th>\n",
       "      <td>#cats_the_mewvie</td>\n",
       "      <td>This pawesome documentary explores how our fel...</td>\n",
       "      <td>Movie</td>\n",
       "      <td>Documentaries, International Movies</td>\n",
       "    </tr>\n",
       "  </tbody>\n",
       "</table>\n",
       "</div>"
      ],
      "text/plain": [
       "                           Title  \\\n",
       "0                       (Un)Well   \n",
       "1                         #Alive   \n",
       "2  #AnneFrank - Parallel Stories   \n",
       "3                       #blackAF   \n",
       "4               #cats_the_mewvie   \n",
       "\n",
       "                                         Description Content Type  \\\n",
       "0  This docuseries takes a deep dive into the luc...      TV Show   \n",
       "1  As a grisly virus rampages a city, a lone man ...        Movie   \n",
       "2  Through her diary, Anne Frank's story is retol...        Movie   \n",
       "3  Kenya Barris and his family navigate relations...      TV Show   \n",
       "4  This pawesome documentary explores how our fel...        Movie   \n",
       "\n",
       "                                           Genres  \n",
       "0                                      Reality TV  \n",
       "1  Horror Movies, International Movies, Thrillers  \n",
       "2             Documentaries, International Movies  \n",
       "3                                     TV Comedies  \n",
       "4             Documentaries, International Movies  "
      ]
     },
     "execution_count": 6,
     "metadata": {},
     "output_type": "execute_result"
    }
   ],
   "source": [
    "data=data[['Title','Description','Content Type','Genres']]\n",
    "data.head(5)"
   ]
  },
  {
   "cell_type": "markdown",
   "id": "fc913cd5",
   "metadata": {},
   "source": [
    "let's dive into the data and gets some insight .As the name suggests:\n",
    "\n",
    "1)The title column contains the titles of movies and TV shows on Netflix\n",
    "\n",
    "2)Description column describes the plot of the TV shows and movies\n",
    "\n",
    "3)The Content Type column tells us if it’s a movie or a TV show\n",
    "\n",
    "4)The Genre column contains all the genres of the TV show or the movie\n",
    "\n",
    "Now let’s drop the rows containing null values and move further:"
   ]
  },
  {
   "cell_type": "code",
   "execution_count": 7,
   "id": "fb215462",
   "metadata": {},
   "outputs": [
    {
     "data": {
      "text/plain": [
       "Title           0\n",
       "Description     0\n",
       "Content Type    0\n",
       "Genres          0\n",
       "dtype: int64"
      ]
     },
     "execution_count": 7,
     "metadata": {},
     "output_type": "execute_result"
    }
   ],
   "source": [
    "#lets check the null values in the updated data\n",
    "data.isnull().sum()\n",
    "#so there is no null values."
   ]
  },
  {
   "cell_type": "code",
   "execution_count": 8,
   "id": "4aa7ea6b",
   "metadata": {},
   "outputs": [
    {
     "data": {
      "text/plain": [
       "0                         (Un)Well\n",
       "1                           #Alive\n",
       "2    #AnneFrank - Parallel Stories\n",
       "3                         #blackAF\n",
       "4                 #cats_the_mewvie\n",
       "5                #FriendButMarried\n",
       "6              #FriendButMarried 2\n",
       "7                     #realityhigh\n",
       "8                        #Rucker50\n",
       "9                          #Selfie\n",
       "Name: Title, dtype: object"
      ]
     },
     "execution_count": 8,
     "metadata": {},
     "output_type": "execute_result"
    }
   ],
   "source": [
    "data['Title'].head(10)"
   ]
  },
  {
   "cell_type": "code",
   "execution_count": 9,
   "id": "3ba387f9",
   "metadata": {},
   "outputs": [
    {
     "data": {
      "text/plain": [
       "array(['(Un)Well', '#Alive', '#AnneFrank - Parallel Stories', ..., '海的儿子',\n",
       "       '반드시 잡는다', '최강전사 미니특공대 : 영웅의 탄생'], dtype=object)"
      ]
     },
     "execution_count": 9,
     "metadata": {},
     "output_type": "execute_result"
    }
   ],
   "source": [
    "data['Title'].unique()"
   ]
  },
  {
   "cell_type": "markdown",
   "id": "5187f292",
   "metadata": {},
   "source": [
    "well the column 'Title' contains  # ,(,) etc and it needs some preparation before we move on with  building \n",
    "our model.For this we need to\n",
    "import nltk(it is the natural language toolkit ,It is a platform used for building python programs that work with human language data for applying in statistical natural language processing(nlp) .It contains text processing   libraries for tokenization,parsing,classification,stemming,tagging and semantic reasoning.\n",
    "Regular expression or (re) specifies a set of strings that   matches it.The module check if a particular string,  which comes down to the samething.\n",
    "\n",
    "re is a python module use to work with the RegEx.\n",
    "Regular Expressionis a sequence of character that defines a search pattern.\n",
    "I will upload another jupiter notebook dedicated to Regular Expression."
   ]
  },
  {
   "cell_type": "code",
   "execution_count": 10,
   "id": "653617df",
   "metadata": {},
   "outputs": [
    {
     "name": "stderr",
     "output_type": "stream",
     "text": [
      "[nltk_data] Downloading package stopwords to\n",
      "[nltk_data]     C:\\Users\\LENOVO\\AppData\\Roaming\\nltk_data...\n",
      "[nltk_data]   Package stopwords is already up-to-date!\n"
     ]
    }
   ],
   "source": [
    "import nltk\n",
    "import re\n",
    "nltk.download('stopwords')#from nltk we will download stopwords\n",
    "stemmer=nltk.SnowballStemmer('english')\n",
    "from nltk.corpus import stopwords\n",
    "import string\n",
    "stopword=set(stopwords.words('english'))\n",
    "\n",
    "def clean(text):\n",
    "    text=str(text).lower()\n",
    "    text=re.sub('\\[.*?\\]',\"\",text)# backlash is used to escape various characters including matacharacter.\n",
    "    text=re.sub('http?://\\s+|www\\.\\S','',text)\n",
    "    text=re.sub('<.?>+',\"\",text)\n",
    "    text=re.sub('[%s]' % re.escape(string.punctuation), '', text)\n",
    "    text=re.sub('\\n', '', text)\n",
    "    text=re.sub('\\w*\\d\\w*', '', text)\n",
    "    text=[word for word in text.split(' ') if word not in stopword]\n",
    "    text=''.join(text)\n",
    "    return text\n",
    "data['Title']=data['Title'].apply(clean)# here applying clean() to clean the title\n",
    "    "
   ]
  },
  {
   "cell_type": "code",
   "execution_count": 11,
   "id": "16e620a2",
   "metadata": {},
   "outputs": [
    {
     "data": {
      "text/plain": [
       "938                  charité\n",
       "1698                  freaks\n",
       "5762               westcoast\n",
       "2040             hiscoregirl\n",
       "889     carmastersrustriches\n",
       "4849                 girlgun\n",
       "2269                 inferno\n",
       "233                airstrike\n",
       "3711                 players\n",
       "5742          summondarkness\n",
       "Name: Title, dtype: object"
      ]
     },
     "execution_count": 11,
     "metadata": {},
     "output_type": "execute_result"
    }
   ],
   "source": [
    "data['Title'].sample(10)\n",
    "#wecan clearly see that our column 'Title' is compltely clean"
   ]
  },
  {
   "cell_type": "code",
   "execution_count": 12,
   "id": "0200c9cf",
   "metadata": {},
   "outputs": [],
   "source": [
    "genres_count=data['Genres'].value_counts()"
   ]
  },
  {
   "cell_type": "code",
   "execution_count": 13,
   "id": "dd46d130",
   "metadata": {},
   "outputs": [
    {
     "data": {
      "text/plain": [
       "<AxesSubplot:ylabel='Genres'>"
      ]
     },
     "execution_count": 13,
     "metadata": {},
     "output_type": "execute_result"
    },
    {
     "data": {
      "image/png": "[encoded data removed]",
      "text/plain": [
       "<Figure size 720x720 with 1 Axes>"
      ]
     },
     "metadata": {
      "needs_background": "light"
     },
     "output_type": "display_data"
    }
   ],
   "source": [
    "genres = \", \".join(data['Genres']).split(\", \")\n",
    "genres\n",
    "\n",
    "from collections import Counter\n",
    "cnt = Counter()\n",
    "for genre in genres:\n",
    "    cnt[genre] += 1\n",
    "\n",
    "topGenres = cnt.most_common(20)\n",
    "df_topGenres = pd.DataFrame (topGenres, columns = ['Genres','Genres Count'])\n",
    "df_topGenres.sort_values(ascending=True, by='Genres Count', inplace=True)\n",
    "df_topGenres.plot.barh(x='Genres',color=[\"#221f1f\",\"#e50914\"],width=0.7,legend=False, figsize=(10, 10))"
   ]
  },
  {
   "cell_type": "markdown",
   "id": "55b41934",
   "metadata": {},
   "source": [
    "Now I will use the Genres column as the feature to recommend similar content to the user. \n",
    "I will use the concept of cosine similarity here .\n",
    "\n",
    "what is cosine similarity?\n",
    "\n",
    "Cosine similarity is a method used in building machine learning applications such as recommender systems. \n",
    "It is a technique to find the similarities between the two documents.It does this by calculating the similarity\n",
    "score between the vectors, which is done by finding the angles between them. The range of similarities is between 0 and 1.\n",
    "If the value of the similarity score between two vectors is 1, it means that there is a greater similarity between the two vectors.\n",
    "On the other hand, if the value of the similarity score between two vectors is 0, it means that there is no similarity between the two vectors. When the similarity score is one, the angle between two vectors is 0 and when the similarity score is 0, the angle between two vectors is 90 degrees."
   ]
  },
  {
   "cell_type": "code",
   "execution_count": 14,
   "id": "ff1adf65",
   "metadata": {},
   "outputs": [],
   "source": [
    "feature = data[\"Genres\"].tolist()\n",
    "tfidf = text.TfidfVectorizer(input=feature, stop_words=\"english\")\n",
    "tfidf_matrix = tfidf.fit_transform(feature)\n",
    "similarity = cosine_similarity(tfidf_matrix)"
   ]
  },
  {
   "cell_type": "markdown",
   "id": "fa212bec",
   "metadata": {},
   "source": [
    "Team Frequency Inverse Document Frequency(TFIDF).It works by proportionally increasing the number of times a word\n",
    "appears in the document but it is counterbalance by the number of documents in which it is present.It only focus on the frequency of words present in the corpus but also provides the importance of the words.\n"
   ]
  },
  {
   "cell_type": "markdown",
   "id": "2e78986e",
   "metadata": {},
   "source": [
    "will set the Title column as an index so that we can \n",
    "find similar content by giving the title of the movie or TV show as an input:"
   ]
  },
  {
   "cell_type": "code",
   "execution_count": 15,
   "id": "a1333240",
   "metadata": {},
   "outputs": [],
   "source": [
    "indices = pd.Series(data.index, \n",
    "                    index=data['Title']).drop_duplicates()"
   ]
  },
  {
   "cell_type": "markdown",
   "id": "680d030e",
   "metadata": {},
   "source": [
    "writing a function to recommend Movies and TV shows on Netflix:"
   ]
  },
  {
   "cell_type": "code",
   "execution_count": 16,
   "id": "722e8291",
   "metadata": {},
   "outputs": [],
   "source": [
    "def netFlix_recommendation(title, similarity = similarity):\n",
    "    index = indices[title]\n",
    "    similarity_scores = list(enumerate(similarity[index]))\n",
    "    similarity_scores = sorted(similarity_scores, key=lambda x: x[1], reverse=True)\n",
    "    similarity_scores = similarity_scores[0:10]\n",
    "    movieindices = [i[0] for i in similarity_scores]\n",
    "    return data['Title'].iloc[movieindices]\n",
    "\n"
   ]
  },
  {
   "cell_type": "code",
   "execution_count": 17,
   "id": "93a554ae",
   "metadata": {},
   "outputs": [
    {
     "name": "stdout",
     "output_type": "stream",
     "text": [
      "1082               congo\n",
      "4877        hatefuleight\n",
      "5608             unknown\n",
      "44              dayskill\n",
      "65               bullets\n",
      "183            abduction\n",
      "232          airforceone\n",
      "323     americanassassin\n",
      "330      americanoutlaws\n",
      "367          angelfallen\n",
      "Name: Title, dtype: object\n"
     ]
    }
   ],
   "source": [
    "print(netFlix_recommendation('congo'))"
   ]
  },
  {
   "cell_type": "code",
   "execution_count": null,
   "id": "38c86e6d",
   "metadata": {},
   "outputs": [],
   "source": []
  }
 ],
 "metadata": {
  "kernelspec": {
   "display_name": "Python 3 (ipykernel)",
   "language": "python",
   "name": "python3"
  },
  "language_info": {
   "codemirror_mode": {
    "name": "ipython",
    "version": 3
   },
   "file_extension": ".py",
   "mimetype": "text/x-python",
   "name": "python",
   "nbconvert_exporter": "python",
   "pygments_lexer": "ipython3",
   "version": "3.9.7"
  }
 },
 "nbformat": 4,
 "nbformat_minor": 5
}
